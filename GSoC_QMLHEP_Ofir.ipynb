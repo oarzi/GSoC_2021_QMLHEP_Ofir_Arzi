{
 "cells": [
  {
   "cell_type": "code",
   "execution_count": 176,
   "id": "9c2b24c8",
   "metadata": {},
   "outputs": [],
   "source": [
    "import cirq\n",
    "import numpy as np\n",
    "import matplotlib.pyplot as plt"
   ]
  },
  {
   "cell_type": "markdown",
   "id": "4c7bbb8a",
   "metadata": {},
   "source": [
    "# Task 1 Quantum Computing Part"
   ]
  },
  {
   "cell_type": "markdown",
   "id": "8a16e46d",
   "metadata": {},
   "source": [
    "## 1. Implement a simple quantum operation with Cirq\n",
    "\n",
    "a) With 5 qubits\n",
    "\n",
    "b) Apply Hadamard operation on every qubit\n",
    "\n",
    "c) Apply CNOT operation on (0, 1), (1,2), (2,3), (3,4)\n",
    "\n",
    "d) SWAP (0, 4)\n",
    "\n",
    "e) Rotate X with pi/2 on any qubit\n",
    "\n",
    "f) Plot the circuit "
   ]
  },
  {
   "cell_type": "code",
   "execution_count": 29,
   "id": "6522f01c",
   "metadata": {},
   "outputs": [
    {
     "name": "stdout",
     "output_type": "stream",
     "text": [
      "                                  ┌──────┐\n",
      "0: ───H───@────────────────────────×─────────Rx(π)───\n",
      "          │                        │\n",
      "1: ───H───X───@───Rx(π)────────────┼─────────────────\n",
      "              │                    │\n",
      "2: ───H───────X───@───────Rx(π)────┼─────────────────\n",
      "                  │                │\n",
      "3: ───H───────────X───────@────────┼Rx(π)────────────\n",
      "                          │        │\n",
      "4: ───H───────────────────X────────×─────────Rx(π)───\n",
      "                                  └──────┘\n"
     ]
    }
   ],
   "source": [
    "circuit = cirq.Circuit()\n",
    "qubits = cirq.LineQubit.range(5) \n",
    "\n",
    "circuit.append([cirq.H(qubit) for qubit in qubits])\n",
    "circuit.append([cirq.CNOT(qubits[i],qubits[i+1]) for i in range(len(qubits) - 1)])\n",
    "circuit.append([cirq.SWAP(qubits[0], qubits[4])])\n",
    "circuit.append([cirq.rx(np.pi)(qubit) for qubit in qubits])\n",
    "\n",
    "print(circuit)"
   ]
  },
  {
   "cell_type": "markdown",
   "id": "a5dd5de3",
   "metadata": {},
   "source": [
    "## 2. Create a circuit that is a series of small cirq.Rx rotations and plot the probability of measuring the state in the |0⟩ state. "
   ]
  },
  {
   "cell_type": "code",
   "execution_count": 145,
   "id": "ae8b8a96",
   "metadata": {},
   "outputs": [
    {
     "name": "stdout",
     "output_type": "stream",
     "text": [
      "q0: ───Rx(0.125π)───Rx(0.125π)───Rx(0.125π)───Rx(0.125π)───Rx(0.125π)───Rx(0.125π)───M───\n"
     ]
    }
   ],
   "source": [
    "circuit2 = cirq.Circuit()\n",
    "qubit = cirq.NamedQubit(\"q0\")\n",
    "\n",
    "circuit2.append([cirq.rx(np.pi/8)(qubit) for i in range(6)])\n",
    "circuit2.append([cirq.measure(qubit, key='q0')])\n",
    "\n",
    "print(circuit2)"
   ]
  },
  {
   "cell_type": "code",
   "execution_count": 169,
   "id": "6edfba0f",
   "metadata": {},
   "outputs": [
    {
     "name": "stdout",
     "output_type": "stream",
     "text": [
      "Counter({1: 82, 0: 18})\n"
     ]
    },
    {
     "data": {
      "image/png": "[encoded data removed]",
      "text/plain": [
       "<Figure size 432x288 with 1 Axes>"
      ]
     },
     "metadata": {
      "needs_background": "light"
     },
     "output_type": "display_data"
    }
   ],
   "source": [
    "simulator = cirq.Simulator()\n",
    "result = simulator.run(circuit2,repetitions=100)\n",
    "\n",
    "print(result.histogram(key='q0'))\n",
    "\n",
    "fig,ax = plt.subplots()\n",
    "plt.xticks([0,1])\n",
    "a=ax.hist(result.records['q0'][:,0,0], bins=[-0.25,0.25,0.75,1.25])"
   ]
  },
  {
   "cell_type": "markdown",
   "id": "7399ebf6",
   "metadata": {},
   "source": [
    "# Task II: Quantum Generative Adversarial Network (QGAN) Part \n",
    "\n",
    "You will explore how best to apply a quantum generative adversarial network (QGAN) to solve a High Energy Data analysis issue, more specifically, separating the signal events from the background events. You should use the Google Cirq and Tensorflow Quantum (TFQ) libraries for this task.\n",
    "\n",
    "A set of input samples (simulated with Delphes) is provided in NumPy NPZ format [Download Input]. In the input file, there are only 100 samples for training and 100 samples for testing so it won’t take much computing resources to accomplish this task. The signal events are labeled with 1 while the background events are labeled with 0.\n",
    "\n",
    "Be sure to show that you understand how to fine tune your machine learning model to improve the performance. The performance can be evaluated with classification accuracy or Area Under ROC Curve (AUC). "
   ]
  },
  {
   "cell_type": "code",
   "execution_count": 267,
   "id": "e7e18295",
   "metadata": {},
   "outputs": [
    {
     "name": "stdout",
     "output_type": "stream",
     "text": [
      "{'0': array([[-0.43079088,  0.86834819, -0.92614721, -0.92662029, -0.56900862],\n",
      "       [ 0.33924198,  0.56155499,  0.93097459, -0.91631726, -0.54463516],\n",
      "       [-0.42888879,  0.87064961, -0.92782179, -0.77533991, -0.58329176],\n",
      "       [-0.43262871,  0.86128919, -0.92240878, -0.88048862, -0.49963115],\n",
      "       [-0.99925345, -0.99949586,  0.07753685, -0.84218034, -0.5149399 ],\n",
      "       [-0.99631106, -0.99775978,  0.0756427 , -0.54117216, -0.66299335],\n",
      "       [-0.42645921,  0.87141204, -0.92908723, -0.52650143, -0.62187526],\n",
      "       [ 0.34317906,  0.57125045,  0.92638556, -0.85113425, -0.40170562],\n",
      "       [-0.99904849, -0.99933931,  0.07737929, -0.81161066, -0.53550246],\n",
      "       [ 0.3371327 ,  0.55874622,  0.92996976, -0.9117092 , -0.50996097],\n",
      "       [ 0.89649306, -0.95523176, -0.66298651, -0.71276678, -0.62698893],\n",
      "       [ 0.34293232,  0.56408047,  0.93448436, -0.88789589, -0.56154273],\n",
      "       [-0.43055876,  0.86615566, -0.92532229, -0.82531102, -0.61433506],\n",
      "       [ 0.33970589,  0.56676702,  0.92567667, -0.91562035, -0.5946945 ],\n",
      "       [-0.99924224, -0.99951208,  0.07752116, -0.8360764 , -0.56981171],\n",
      "       [-0.43099755,  0.86651251, -0.925269  , -0.86698757, -0.5334677 ],\n",
      "       [-0.99937446, -0.99960218,  0.07759084, -0.84990046, -0.57999577],\n",
      "       [-0.99889821, -0.99925173,  0.07726642, -0.78825187, -0.58779546],\n",
      "       [ 0.34950661,  0.58567909,  0.91615208, -0.55392065, -0.71591931],\n",
      "       [-0.9996095 , -0.99972522,  0.07776863, -0.87858433, -0.51991104],\n",
      "       [-0.99941236, -0.99961243,  0.07764686, -0.85816986, -0.53408948],\n",
      "       [-0.99900111, -0.99932936,  0.07736239, -0.80987373, -0.54108498],\n",
      "       [-0.99903613, -0.99944072,  0.0774002 , -0.82528366, -0.58735909],\n",
      "       [-0.99865334, -0.99912034,  0.07716685, -0.77627523, -0.53754642],\n",
      "       [-0.42986358,  0.86654897, -0.925718  , -0.73862815, -0.58674809],\n",
      "       [-0.42826609,  0.8738673 , -0.929425  , -0.83386636, -0.57230481],\n",
      "       [-0.4292864 ,  0.86711   , -0.92616079, -0.67992738, -0.58893727],\n",
      "       [-0.99891246, -0.99935218,  0.07730719, -0.81056136, -0.58817068],\n",
      "       [-0.99943724, -0.99960331,  0.07761935, -0.84897875, -0.57251576],\n",
      "       [-0.43294759,  0.86021519, -0.92189498, -0.87279564, -0.59891923],\n",
      "       [-0.99916459, -0.99946953,  0.07745698, -0.82671955, -0.58793255],\n",
      "       [-0.99341325, -0.99601417,  0.07387947, -0.24695737, -0.73035246],\n",
      "       [-0.99991548, -0.99993058,  0.07794216, -0.90504651, -0.56418312],\n",
      "       [-0.99922291, -0.99953394,  0.07750004, -0.83864938, -0.5907458 ],\n",
      "       [-0.43169009,  0.8646533 , -0.92421266, -0.89228919, -0.52078182],\n",
      "       [-0.99880664, -0.99928854,  0.07727578, -0.80952183, -0.5345482 ],\n",
      "       [-0.42616344,  0.88033088, -0.93295403, -0.82686517, -0.55077716],\n",
      "       [-0.43139955,  0.86308588, -0.92365803, -0.79283965, -0.56396112],\n",
      "       [-0.42911949,  0.86960978, -0.92732509, -0.76203901, -0.59011644],\n",
      "       [-0.43195732,  0.86474019, -0.92418549, -0.92918364, -0.59731155],\n",
      "       [ 0.88467977, -0.95414347, -0.66293153, -0.82036316, -0.59800758],\n",
      "       [ 0.88789478, -0.95460466, -0.66579754, -0.74234352, -0.64920965],\n",
      "       [-0.99902527, -0.99935633,  0.07734482, -0.80286049, -0.61041081],\n",
      "       [ 0.91931151, -0.94505739, -0.67409081, -0.63394305, -0.62119434],\n",
      "       [-0.43082934,  0.86509194, -0.92477223, -0.78937098, -0.60215747],\n",
      "       [ 0.34116539,  0.5652242 ,  0.93031814, -0.91565387, -0.59557556],\n",
      "       [-0.42622734,  0.88083524, -0.93317473, -0.86019392, -0.57646517],\n",
      "       [-0.99827896, -0.99902924,  0.07692876, -0.75539493, -0.62698962],\n",
      "       [-0.99820057, -0.99867978,  0.07680484, -0.70805718, -0.47476004],\n",
      "       [-0.43178015,  0.86266855, -0.92335757, -0.83674549, -0.5820067 ]]), '1': array([[-0.42298067,  0.88630865, -0.93661218, -0.64944313, -0.39193538],\n",
      "       [ 0.90999432, -0.94429141, -0.6746157 , -0.80518637, -0.53296538],\n",
      "       [-0.99909734, -0.99933762,  0.07749262, -0.83351171, -0.393053  ],\n",
      "       [ 0.35152705,  0.5794319 ,  0.91806358, -0.00923369, -0.75412351],\n",
      "       [ 0.34399902,  0.57339474,  0.92616223, -0.91269157, -0.51149302],\n",
      "       [-0.42905645,  0.86662382, -0.92592506, -0.65770698, -0.38264457],\n",
      "       [ 0.88005236, -0.9599969 , -0.66609191, -0.8764421 , -0.58517572],\n",
      "       [-0.99793345, -0.99872791,  0.07670388, -0.71240287, -0.56441582],\n",
      "       [ 0.91213483, -0.91733005, -0.65528741, -0.67448585, -0.51199249],\n",
      "       [ 0.88551226, -0.94868142, -0.66252618, -0.90843762, -0.59915173],\n",
      "       [ 0.89150504, -0.94960047, -0.67068894,  0.15565222, -0.84421124],\n",
      "       [ 0.88909834, -0.94318762, -0.67148287, -0.84064276, -0.60912642],\n",
      "       [ 0.90255888, -0.92328057, -0.67519978, -0.57106936, -0.66341163],\n",
      "       [ 0.8976049 , -0.94774689, -0.66648593, -0.65464116, -0.52345396],\n",
      "       [-0.43030625,  0.86671232, -0.92539398, -0.82285501, -0.16938372],\n",
      "       [-0.42585346,  0.86764478, -0.9275629 , -0.32038269, -0.50555058],\n",
      "       [-0.43160184,  0.86429225, -0.92408762, -0.85714772, -0.54078138],\n",
      "       [ 0.34190452,  0.57019409,  0.9243911 , -0.8128156 , -0.58818964],\n",
      "       [ 0.89132992, -0.9483933 , -0.65619896, -0.88958426, -0.54497086],\n",
      "       [ 0.890744  , -0.95340342, -0.66924037, -0.79894801, -0.56738322],\n",
      "       [ 0.91361551, -0.94972251, -0.67585399, -0.50145697, -0.1911723 ],\n",
      "       [ 0.88935183, -0.94313315, -0.66904492, -0.79169152, -0.54132759],\n",
      "       [ 0.34476283,  0.57803763,  0.92061164, -0.80268017, -0.32524356],\n",
      "       [ 0.88926914, -0.95421273, -0.66842321, -0.68806207, -0.60578623],\n",
      "       [ 0.89505106, -0.9451298 , -0.67363669, -0.69723999, -0.66076491],\n",
      "       [ 0.362334  ,  0.59572753,  0.93213198, -0.72362975, -0.59988639],\n",
      "       [-0.4288074 ,  0.86967951, -0.92739944, -0.74532187, -0.46450815],\n",
      "       [ 0.88718043, -0.95091359, -0.65983102, -0.8940726 , -0.53211548],\n",
      "       [-0.99846294, -0.99900932,  0.07703519, -0.7582664 , -0.54351981],\n",
      "       [ 0.34178597,  0.56585585,  0.92943783, -0.85569345, -0.56113033],\n",
      "       [ 0.88296536, -0.95481506, -0.66270552, -0.78421127, -0.61179041],\n",
      "       [ 0.88426395, -0.95297205, -0.6626738 , -0.65294941, -0.46763447],\n",
      "       [-0.99590417, -0.99728851,  0.07527463, -0.45478035, -0.64937587],\n",
      "       [ 0.34028029,  0.56005082,  0.93145617, -0.76996587, -0.55614608],\n",
      "       [ 0.88938047, -0.95010936, -0.66373879, -0.80909527, -0.45277393],\n",
      "       [-0.99688379, -0.99798169,  0.07591516, -0.57297135, -0.64869519],\n",
      "       [ 0.90560361, -0.9344575 , -0.65804998, -0.7947352 , -0.58626245],\n",
      "       [ 0.3407186 ,  0.5649425 ,  0.92917793, -0.88543543, -0.45824451],\n",
      "       [ 0.34652975,  0.56915775,  0.93002691, -0.5463081 , -0.61838199],\n",
      "       [ 0.34864817,  0.58382871,  0.91784001, -0.62395809, -0.67006945],\n",
      "       [-0.4268417 ,  0.87348543, -0.92980882, -0.61323903, -0.53234345],\n",
      "       [ 0.93378275, -0.85174182, -0.70941954,  0.05491566, -0.27530413],\n",
      "       [ 0.34210266,  0.56613037,  0.92717996, -0.69534422, -0.62937982],\n",
      "       [ 0.3507178 ,  0.57835822,  0.93047705, -0.73815929, -0.53465596],\n",
      "       [ 0.35258416,  0.58849015,  0.92018786, -0.62128929, -0.58711745],\n",
      "       [ 0.92789668, -0.90635417, -0.64723127, -0.61636877, -0.534791  ],\n",
      "       [-0.43018391,  0.86569257, -0.92522163, -0.72360566, -0.50565552],\n",
      "       [ 0.3490436 ,  0.5855566 ,  0.91734464, -0.60993714, -0.58527924],\n",
      "       [ 0.34434515,  0.56629373,  0.93026591, -0.6060978 , -0.64930218],\n",
      "       [ 0.88125135, -0.95437964, -0.66664384, -0.78187561, -0.64345757]])}\n"
     ]
    }
   ],
   "source": [
    "with np.load('QIS_EXAM_200Events.npz',allow_pickle=True) as data:\n",
    "    train = data['training_input'].item()\n",
    "    test = data['test_input'].item()\n",
    "    \n",
    "    \n",
    "    "
   ]
  }
 ],
 "metadata": {
  "kernelspec": {
   "display_name": "ofir",
   "language": "python",
   "name": "ofir"
  },
  "language_info": {
   "codemirror_mode": {
    "name": "ipython",
    "version": 3
   },
   "file_extension": ".py",
   "mimetype": "text/x-python",
   "name": "python",
   "nbconvert_exporter": "python",
   "pygments_lexer": "ipython3",
   "version": "3.9.9"
  }
 },
 "nbformat": 4,
 "nbformat_minor": 5
}
