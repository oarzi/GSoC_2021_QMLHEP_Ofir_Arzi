{
 "cells": [
  {
   "cell_type": "code",
   "execution_count": 2,
   "id": "711ffc6e-5244-4634-93b2-82385cfe7aa0",
   "metadata": {},
   "outputs": [
    {
     "name": "stderr",
     "output_type": "stream",
     "text": [
      "2022-04-19 11:28:07.121205: W tensorflow/stream_executor/platform/default/dso_loader.cc:64] Could not load dynamic library 'libcudart.so.11.0'; dlerror: libcudart.so.11.0: cannot open shared object file: No such file or directory\n",
      "2022-04-19 11:28:07.121426: I tensorflow/stream_executor/cuda/cudart_stub.cc:29] Ignore above cudart dlerror if you do not have a GPU set up on your machine.\n",
      "2022-04-19 11:28:50.052794: W tensorflow/stream_executor/platform/default/dso_loader.cc:64] Could not load dynamic library 'libcuda.so.1'; dlerror: libcuda.so.1: cannot open shared object file: No such file or directory\n",
      "2022-04-19 11:28:50.079419: W tensorflow/stream_executor/cuda/cuda_driver.cc:269] failed call to cuInit: UNKNOWN ERROR (303)\n",
      "2022-04-19 11:28:50.089242: I tensorflow/stream_executor/cuda/cuda_diagnostics.cc:156] kernel driver does not appear to be running on this host (DESKTOP-M1456IP): /proc/driver/nvidia/version does not exist\n",
      "2022-04-19 11:28:50.404860: I tensorflow/core/platform/cpu_feature_guard.cc:151] This TensorFlow binary is optimized with oneAPI Deep Neural Network Library (oneDNN) to use the following CPU instructions in performance-critical operations:  AVX2 FMA\n",
      "To enable them in other operations, rebuild TensorFlow with the appropriate compiler flags.\n"
     ]
    }
   ],
   "source": [
    "import cirq\n",
    "import numpy as np\n",
    "import matplotlib.pyplot as plt\n",
    "import tensorflow_quantum as tfq\n",
    "from tensorflow import keras"
   ]
  },
  {
   "cell_type": "markdown",
   "id": "4c7bbb8a",
   "metadata": {
    "jp-MarkdownHeadingCollapsed": true,
    "tags": []
   },
   "source": [
    "# Task 1 Quantum Computing Part"
   ]
  },
  {
   "cell_type": "markdown",
   "id": "8a16e46d",
   "metadata": {
    "jp-MarkdownHeadingCollapsed": true,
    "tags": []
   },
   "source": [
    "## 1. Implement a simple quantum operation with Cirq\n",
    "\n",
    "a) With 5 qubits\n",
    "\n",
    "b) Apply Hadamard operation on every qubit\n",
    "\n",
    "c) Apply CNOT operation on (0, 1), (1,2), (2,3), (3,4)\n",
    "\n",
    "d) SWAP (0, 4)\n",
    "\n",
    "e) Rotate X with pi/2 on any qubit\n",
    "\n",
    "f) Plot the circuit "
   ]
  },
  {
   "cell_type": "code",
   "execution_count": 3,
   "id": "6522f01c",
   "metadata": {},
   "outputs": [
    {
     "name": "stdout",
     "output_type": "stream",
     "text": [
      "                                  ┌──────┐\n",
      "0: ───H───@────────────────────────×─────────Rx(π)───\n",
      "          │                        │\n",
      "1: ───H───X───@───Rx(π)────────────┼─────────────────\n",
      "              │                    │\n",
      "2: ───H───────X───@───────Rx(π)────┼─────────────────\n",
      "                  │                │\n",
      "3: ───H───────────X───────@────────┼Rx(π)────────────\n",
      "                          │        │\n",
      "4: ───H───────────────────X────────×─────────Rx(π)───\n",
      "                                  └──────┘\n"
     ]
    }
   ],
   "source": [
    "circuit = cirq.Circuit()\n",
    "qubits = cirq.LineQubit.range(5) \n",
    "\n",
    "circuit.append([cirq.H(qubit) for qubit in qubits])\n",
    "circuit.append([cirq.CNOT(qubits[i],qubits[i+1]) for i in range(len(qubits) - 1)])\n",
    "circuit.append([cirq.SWAP(qubits[0], qubits[4])])\n",
    "circuit.append([cirq.rx(np.pi)(qubit) for qubit in qubits])\n",
    "\n",
    "print(circuit)"
   ]
  },
  {
   "cell_type": "markdown",
   "id": "a5dd5de3",
   "metadata": {
    "jp-MarkdownHeadingCollapsed": true,
    "tags": []
   },
   "source": [
    "## 2. Create a circuit that is a series of small cirq.Rx rotations and plot the probability of measuring the state in the |0⟩ state. "
   ]
  },
  {
   "cell_type": "code",
   "execution_count": 145,
   "id": "ae8b8a96",
   "metadata": {},
   "outputs": [
    {
     "name": "stdout",
     "output_type": "stream",
     "text": [
      "q0: ───Rx(0.125π)───Rx(0.125π)───Rx(0.125π)───Rx(0.125π)───Rx(0.125π)───Rx(0.125π)───M───\n"
     ]
    }
   ],
   "source": [
    "circuit2 = cirq.Circuit()\n",
    "qubit = cirq.NamedQubit(\"q0\")\n",
    "\n",
    "circuit2.append([cirq.rx(np.pi/8)(qubit) for i in range(6)])\n",
    "circuit2.append([cirq.measure(qubit, key='q0')])\n",
    "\n",
    "print(circuit2)"
   ]
  },
  {
   "cell_type": "code",
   "execution_count": 169,
   "id": "6edfba0f",
   "metadata": {},
   "outputs": [
    {
     "name": "stdout",
     "output_type": "stream",
     "text": [
      "Counter({1: 82, 0: 18})\n"
     ]
    },
    {
     "data": {
      "image/png": "[encoded data removed]",
      "text/plain": [
       "<Figure size 432x288 with 1 Axes>"
      ]
     },
     "metadata": {
      "needs_background": "light"
     },
     "output_type": "display_data"
    }
   ],
   "source": [
    "simulator = cirq.Simulator()\n",
    "result = simulator.run(circuit2,repetitions=100)\n",
    "\n",
    "print(result.histogram(key='q0'))\n",
    "\n",
    "fig,ax = plt.subplots()\n",
    "plt.xticks([0,1])\n",
    "a=ax.hist(result.records['q0'][:,0,0], bins=[-0.25,0.25,0.75,1.25])"
   ]
  },
  {
   "cell_type": "markdown",
   "id": "7399ebf6",
   "metadata": {
    "jp-MarkdownHeadingCollapsed": true,
    "tags": []
   },
   "source": [
    "# Task II: Quantum Generative Adversarial Network (QGAN) Part "
   ]
  },
  {
   "cell_type": "markdown",
   "id": "e6055541-8f12-4df2-853b-b4b2befd4aac",
   "metadata": {},
   "source": [
    "You will explore how best to apply a quantum generative adversarial network (QGAN) to solve a High Energy Data analysis issue, more specifically, separating the signal events from the background events. You should use the Google Cirq and Tensorflow Quantum (TFQ) libraries for this task.\n",
    "\n",
    "A set of input samples (simulated with Delphes) is provided in NumPy NPZ format [Download Input]. In the input file, there are only 100 samples for training and 100 samples for testing so it won’t take much computing resources to accomplish this task. The signal events are labeled with 1 while the background events are labeled with 0.\n",
    "\n",
    "Be sure to show that you understand how to fine tune your machine learning model to improve the performance. The performance can be evaluated with classification accuracy or Area Under ROC Curve (AUC). "
   ]
  },
  {
   "cell_type": "markdown",
   "id": "3ca580e2-2f66-4f0e-affa-65b3fec5a394",
   "metadata": {},
   "source": [
    "1. How to represent 5-dim classical vvecto as input to QGAN?\n",
    "2. Generator/Discriminator - what are input & output?\n",
    "3. How to train for classification?"
   ]
  },
  {
   "cell_type": "code",
   "execution_count": 54,
   "id": "b2c2defd-26cd-49da-a908-16dc36fb8759",
   "metadata": {},
   "outputs": [],
   "source": [
    "def data_gen(data_arr):\n",
    "    def batch_gen():\n",
    "        data0 = np.hstack([data_arr['0'][np.random.randint(0, high=50, size=5)],np.zeros((5,1))])\n",
    "        data1 = np.hstack([data_arr['1'][np.random.randint(0, high=50, size=5)],np.ones((5,1))])\n",
    "        data_batch = np.vstack([data0, data1])\n",
    "        np.random.shuffle(data_batch)\n",
    "        yield data_batch\n",
    "    return batch_gen()"
   ]
  },
  {
   "cell_type": "code",
   "execution_count": null,
   "id": "e4d281c8-6b74-4ff8-954f-9317d89c59a2",
   "metadata": {},
   "outputs": [],
   "source": [
    "def generator(w, **kwargs):\n",
    "    qml.Hadamard(wires=0)\n",
    "    qml.RX(w[0], wires=0)\n",
    "    qml.RX(w[1], wires=1)\n",
    "    qml.RY(w[2], wires=0)\n",
    "    qml.RY(w[3], wires=1)\n",
    "    qml.RZ(w[4], wires=0)\n",
    "    qml.RZ(w[5], wires=1)\n",
    "    qml.CNOT(wires=[0, 1])\n",
    "    qml.RX(w[6], wires=0)\n",
    "    qml.RY(w[7], wires=0)\n",
    "    qml.RZ(w[8], wires=0)\n",
    "\n",
    "\n",
    "def discriminator(w):\n",
    "    qml.Hadamard(wires=0)\n",
    "    qml.RX(w[0], wires=0)\n",
    "    qml.RX(w[1], wires=2)\n",
    "    qml.RY(w[2], wires=0)\n",
    "    qml.RY(w[3], wires=2)\n",
    "    qml.RZ(w[4], wires=0)\n",
    "    qml.RZ(w[5], wires=2)\n",
    "    qml.CNOT(wires=[0, 2])\n",
    "    qml.RX(w[6], wires=2)\n",
    "    qml.RY(w[7], wires=2)\n",
    "    qml.RZ(w[8], wires=2)\n",
    "    \n",
    "circuit = cirq.Circuit()\n",
    "qubits = cirq.LineQubit.range(10) "
   ]
  },
  {
   "cell_type": "code",
   "execution_count": 57,
   "id": "e7e18295",
   "metadata": {},
   "outputs": [
    {
     "name": "stdout",
     "output_type": "stream",
     "text": [
      "[[-0.99925345 -0.99949586  0.07753685 -0.84218034 -0.5149399   0.        ]\n",
      " [-0.99865334 -0.99912034  0.07716685 -0.77627523 -0.53754642  0.        ]\n",
      " [ 0.34950661  0.58567909  0.91615208 -0.55392065 -0.71591931  0.        ]\n",
      " [-0.42585346  0.86764478 -0.9275629  -0.32038269 -0.50555058  1.        ]\n",
      " [ 0.88125135 -0.95437964 -0.66664384 -0.78187561 -0.64345757  1.        ]\n",
      " [ 0.90560361 -0.9344575  -0.65804998 -0.7947352  -0.58626245  1.        ]\n",
      " [ 0.90999432 -0.94429141 -0.6746157  -0.80518637 -0.53296538  1.        ]\n",
      " [-0.43030625  0.86671232 -0.92539398 -0.82285501 -0.16938372  1.        ]\n",
      " [-0.99916459 -0.99946953  0.07745698 -0.82671955 -0.58793255  0.        ]\n",
      " [-0.99889821 -0.99925173  0.07726642 -0.78825187 -0.58779546  0.        ]]\n"
     ]
    }
   ],
   "source": [
    "with np.load('QIS_EXAM_200Events.npz',allow_pickle=True) as data:\n",
    "    train = data['training_input'].item()\n",
    "    test = data['test_input'].item()\n",
    "    # print(np.hstack([train['0'][np.random.randint(0, high=50, size=5)],np.zeros((5,1))]))\n",
    "    \n",
    "    train_gen = data_gen(train)\n"
   ]
  },
  {
   "cell_type": "code",
   "execution_count": 17,
   "id": "75e5312f-47fd-4835-96ff-dd5f1cba74bf",
   "metadata": {},
   "outputs": [
    {
     "data": {
      "text/plain": [
       "(6, 5)"
      ]
     },
     "execution_count": 17,
     "metadata": {},
     "output_type": "execute_result"
    }
   ],
   "source": [
    "np.vstack([np.random.rand(3,5),np.random.rand(3,5)]).shape"
   ]
  },
  {
   "cell_type": "code",
   "execution_count": 1,
   "id": "b34878e2-6267-481c-aee1-e5a65fae260c",
   "metadata": {},
   "outputs": [
    {
     "ename": "NameError",
     "evalue": "name 'np' is not defined",
     "output_type": "error",
     "traceback": [
      "\u001b[0;31m---------------------------------------------------------------------------\u001b[0m",
      "\u001b[0;31mNameError\u001b[0m                                 Traceback (most recent call last)",
      "Input \u001b[0;32mIn [1]\u001b[0m, in \u001b[0;36m<cell line: 1>\u001b[0;34m()\u001b[0m\n\u001b[0;32m----> 1\u001b[0m \u001b[43mnp\u001b[49m\u001b[38;5;241m.\u001b[39mrandom\u001b[38;5;241m.\u001b[39mrandint(\u001b[38;5;241m0\u001b[39m, high\u001b[38;5;241m=\u001b[39m\u001b[38;5;241m100\u001b[39m, size\u001b[38;5;241m=\u001b[39m\u001b[38;5;241m5\u001b[39m)\n",
      "\u001b[0;31mNameError\u001b[0m: name 'np' is not defined"
     ]
    }
   ],
   "source": [
    "np.random.randint(0, high=100, size=5)"
   ]
  },
  {
   "cell_type": "markdown",
   "id": "4de6aec8-9a15-4630-8ad0-3433c4924ab6",
   "metadata": {},
   "source": [
    "# Task III:\n",
    "\n",
    "The electron-photon dataset (which can be found here) contains 100 samples for training and another 100 for testing, laid out as follows:\n",
    "\n",
    "● data[\"x_train\"]: Training dataset of 100 32x32 images containing the particles' energy (100, 32, 32)\n",
    "\n",
    "● data[\"y_train\"]:\" Training labels, 0 = \"photon\", 1 = \"electron\" (100,)\n",
    "\n",
    "● data[\"x_test\"]: Test dataset of 100 32x32 images containing the particles' energy (100, 32, 32)\n",
    "\n",
    "● data[\"y_test\"]:\" Test labels, 0 = \"photon\", 1 = \"electron\" (100,)\n",
    "\n",
    "The dataset labels are labelled 0 for photons and 1 for electrons.\n",
    "\n",
    "Your task is to\n",
    "\n",
    "Part a) implement a quantum variational autoencoder in TF Quantum and show its performance\n",
    "\n",
    "Part b) implement a quantum neural network of any architecture (except convolutional) in Tensorflow Quantum\n",
    "\n",
    "Part c) implement a QCNN model in TF Quantum\n",
    "\n",
    "Both types of QNNs should use this dataset’s input and perform binary classification. Please feel free to experiment with different ways of encoding the classical data inputs into the qubits.\n",
    "\n",
    "Specifically, show that the models fits the dataset and that your training loss decreases over time. (Given the small dataset size, we will not be focusing on the accuracy of your model).\n",
    "\n",
    "\n",
    "------------------\n",
    "## Part a) implement a quantum variational autoencoder in TF Quantum and show its performance"
   ]
  },
  {
   "cell_type": "code",
   "execution_count": 43,
   "id": "ad478e7f-b50d-42e1-99cd-c40d2674b7f3",
   "metadata": {},
   "outputs": [
    {
     "name": "stdout",
     "output_type": "stream",
     "text": [
      "['x_train' 'y_train' 'x_test' 'y_test']\n",
      "[1. 1. 1. 0. 1. 0. 1. 1. 1. 0. 1. 1. 1. 1. 0. 1. 1. 0. 0. 1. 0. 0. 1. 0.\n",
      " 1. 0. 1. 1. 0. 0. 1. 0. 1. 1. 0. 0. 1. 1. 0. 1. 1. 0. 0. 0. 1. 1. 0. 1.\n",
      " 1. 0. 1. 1. 0. 0. 1. 1. 1. 1. 1. 1. 1. 1. 0. 0. 0. 0. 1. 0. 0. 0. 0. 0.\n",
      " 0. 0. 0. 1. 1. 1. 0. 1. 0. 1. 1. 1. 0. 1. 0. 1. 0. 0. 1. 1. 1. 0. 1. 0.\n",
      " 1. 1. 0. 1.]\n",
      "[[0.00000000e+00 0.00000000e+00 0.00000000e+00 0.00000000e+00\n",
      "  0.00000000e+00 0.00000000e+00 0.00000000e+00 0.00000000e+00\n",
      "  0.00000000e+00 0.00000000e+00]\n",
      " [0.00000000e+00 0.00000000e+00 0.00000000e+00 0.00000000e+00\n",
      "  0.00000000e+00 0.00000000e+00 0.00000000e+00 3.25021334e-03\n",
      "  0.00000000e+00 0.00000000e+00]\n",
      " [0.00000000e+00 0.00000000e+00 8.80289183e-04 5.27916942e-04\n",
      "  3.21917702e-03 4.93235281e-03 4.19889996e-03 2.89295241e-03\n",
      "  3.19245714e-03 0.00000000e+00]\n",
      " [0.00000000e+00 0.00000000e+00 9.04924760e-04 2.62002111e-03\n",
      "  2.74827518e-03 3.34637389e-02 7.61364251e-02 1.11197578e-02\n",
      "  1.98657392e-03 1.43042766e-03]\n",
      " [0.00000000e+00 0.00000000e+00 0.00000000e+00 1.68319850e-03\n",
      "  6.06015231e-03 1.02286436e-01 1.00000000e+00 3.43746729e-02\n",
      "  1.75671000e-02 3.10368650e-03]\n",
      " [0.00000000e+00 0.00000000e+00 6.94865594e-04 9.18297796e-04\n",
      "  3.73727642e-03 1.11699319e-02 2.22151875e-02 8.42369534e-03\n",
      "  0.00000000e+00 2.47030449e-03]\n",
      " [0.00000000e+00 0.00000000e+00 1.88438781e-03 1.85163727e-03\n",
      "  1.69690722e-03 5.96283190e-03 1.68636208e-03 1.63088378e-03\n",
      "  3.03281099e-03 0.00000000e+00]\n",
      " [0.00000000e+00 0.00000000e+00 0.00000000e+00 0.00000000e+00\n",
      "  0.00000000e+00 0.00000000e+00 0.00000000e+00 0.00000000e+00\n",
      "  0.00000000e+00 0.00000000e+00]\n",
      " [0.00000000e+00 0.00000000e+00 0.00000000e+00 0.00000000e+00\n",
      "  0.00000000e+00 0.00000000e+00 0.00000000e+00 0.00000000e+00\n",
      "  0.00000000e+00 0.00000000e+00]\n",
      " [0.00000000e+00 0.00000000e+00 0.00000000e+00 0.00000000e+00\n",
      "  0.00000000e+00 0.00000000e+00 0.00000000e+00 0.00000000e+00\n",
      "  0.00000000e+00 0.00000000e+00]]\n"
     ]
    },
    {
     "data": {
      "image/png": "[encoded data removed]",
      "text/plain": [
       "<Figure size 720x720 with 1 Axes>"
      ]
     },
     "metadata": {
      "needs_background": "light"
     },
     "output_type": "display_data"
    }
   ],
   "source": [
    "with np.printoptions(threshold=np.inf):\n",
    "    with np.load('electron-photon.npz',allow_pickle=True) as data:\n",
    "        print(np.array(data))\n",
    "        X_train = data['x_train']\n",
    "        X_test = data['x_test']\n",
    "        Y_train = data['y_train']\n",
    "        Y_test = data['y_test']\n",
    "\n",
    "        # print(X_train[0])\n",
    "        plt.figure(figsize = (10,10))\n",
    "        print(Y_train)\n",
    "        print(X_train[10][12:22,10:20]/np.max(X_train[10][12:22,10:20]))\n",
    "        plt.imshow(X_train[10][12:22,10:20]/np.max(X_train[10][12:22,10:20]))"
   ]
  },
  {
   "cell_type": "markdown",
   "id": "82952e7a-9201-4d20-a78f-9070dad7dac6",
   "metadata": {},
   "source": [
    "# Task IV: Classical Graph Neural Network (GNN)\n",
    "\n",
    "For Task IV, you will use ParticleNet’s data for Quark/Gluon jet classification available here with its corresponding description.\n",
    "\n",
    "\n",
    "* Choose 2 Graph-based architectures of your choice to classify jets as being quarks or gluons. \n",
    "  * Provide a description on what considerations you have taken to project this point-cloud dataset to a set of interconnected nodes and edges.\n",
    "  \n",
    "* Discuss the resulting performance of the 2 chosen architectures.\n",
    "\n",
    "## Data\n",
    "\n",
    "There are two arrays in each file:\n",
    "\n",
    "- X: (100000,M,4), exactly 50k quark and 50k gluon jets, randomly sorted, where M is the max multiplicity of the jets in that file (other jets have been padded with zero-particles), and the features of each particle are its **pt, rapidity, azimuthal angle, and pdgid**.\n",
    "- y: (100000,), an array of labels for the jets where gluon is 0 and quark is 1.\n",
    "\n"
   ]
  },
  {
   "cell_type": "code",
   "execution_count": 70,
   "id": "ff608f37-151e-4d16-969a-ef48cc1cce01",
   "metadata": {},
   "outputs": [
    {
     "name": "stdout",
     "output_type": "stream",
     "text": [
      "['X' 'y']\n"
     ]
    }
   ],
   "source": [
    "with np.load('QG_jets.npz',allow_pickle=True) as data:\n",
    "    print(np.array(data))\n",
    "    # print(np.array(data['X']))\n",
    "    X = data['X']\n",
    "    Y = data['y']"
   ]
  },
  {
   "cell_type": "code",
   "execution_count": 127,
   "id": "007de2be-ceec-4933-aa9a-2d978582dd65",
   "metadata": {},
   "outputs": [
    {
     "data": {
      "text/plain": [
       "array([ 5, 11, 13, 16, 17])"
      ]
     },
     "execution_count": 127,
     "metadata": {},
     "output_type": "execute_result"
    }
   ],
   "source": [
    "np.where(Y==0)[0][:5]"
   ]
  },
  {
   "cell_type": "code",
   "execution_count": 128,
   "id": "0803d33c-1295-4ed3-ba28-4eea7d3a5551",
   "metadata": {},
   "outputs": [
    {
     "data": {
      "text/plain": [
       "array([0., 0., 0., 0., 0.])"
      ]
     },
     "execution_count": 128,
     "metadata": {},
     "output_type": "execute_result"
    }
   ],
   "source": [
    "Y[np.where(Y==0)[0][:5]]"
   ]
  },
  {
   "cell_type": "code",
   "execution_count": 117,
   "id": "5763cb10-a8cd-4a79-abc5-1c998caf3529",
   "metadata": {},
   "outputs": [
    {
     "data": {
      "text/plain": [
       "array([1., 0.])"
      ]
     },
     "execution_count": 117,
     "metadata": {},
     "output_type": "execute_result"
    }
   ],
   "source": [
    "Y[0:6:5]"
   ]
  },
  {
   "cell_type": "code",
   "execution_count": 131,
   "id": "d7726a0a-9552-4e1d-a583-3f8d28e508fa",
   "metadata": {},
   "outputs": [
    {
     "data": {
      "text/plain": [
       "array([[  321.,    22.,    22.,    22.,    22.,    22.,  -211.,   211.,\n",
       "           22.,    22.,  -211.,    22.,   211.,    22.,    22.,   211.,\n",
       "         -211.,   130.,   211.,   211.,    22.,    22.,    22.,    22.,\n",
       "           22.,    22.,    22.,   211.,    22.,   130.,  -211.,  -211.,\n",
       "         -321.,   321.,    22.,  -211.,  -211.,  -211.,   211.,  -321.,\n",
       "          321.,    22.,    22.,    22.,  -321.,    22.,   321.,    22.,\n",
       "           22.,   211.,    22.,   211.,    22.,  -211.,  -211.,    22.,\n",
       "           22.,    22.,  -211.,  -211.,   211.,   211.,   211.,     0.,\n",
       "            0.,     0.,     0.,     0.,     0.,     0.,     0.,     0.,\n",
       "            0.,     0.,     0.,     0.,     0.,     0.,     0.,     0.,\n",
       "            0.,     0.,     0.,     0.,     0.,     0.,     0.,     0.,\n",
       "            0.,     0.,     0.,     0.,     0.,     0.,     0.,     0.,\n",
       "            0.,     0.,     0.,     0.,     0.,     0.,     0.,     0.,\n",
       "            0.,     0.,     0.,     0.,     0.,     0.,     0.,     0.,\n",
       "            0.,     0.,     0.,     0.,     0.,     0.,     0.,     0.,\n",
       "            0.,     0.,     0.,     0.,     0.,     0.,     0.,     0.,\n",
       "            0.,     0.,     0.,     0.,     0.,     0.,     0.,     0.,\n",
       "            0.,     0.,     0.],\n",
       "       [ -211.,    22.,   -11.,   211.,    22.,    11.,    22.,  2212.,\n",
       "          130.,   211.,    22.,    22.,  -211.,    22.,  -211.,  -211.,\n",
       "           22.,    22.,   211., -2212.,    22.,    22.,    22.,    22.,\n",
       "         -211.,   211.,    22.,    22., -2112.,   211.,    22.,  -211.,\n",
       "           22.,    22.,   211.,    22.,  -211.,   211.,  -211.,   211.,\n",
       "           22.,  -211.,  -211.,    22.,   211.,   211.,   211.,    22.,\n",
       "           22.,  2112., -2112.,  -211.,     0.,     0.,     0.,     0.,\n",
       "            0.,     0.,     0.,     0.,     0.,     0.,     0.,     0.,\n",
       "            0.,     0.,     0.,     0.,     0.,     0.,     0.,     0.,\n",
       "            0.,     0.,     0.,     0.,     0.,     0.,     0.,     0.,\n",
       "            0.,     0.,     0.,     0.,     0.,     0.,     0.,     0.,\n",
       "            0.,     0.,     0.,     0.,     0.,     0.,     0.,     0.,\n",
       "            0.,     0.,     0.,     0.,     0.,     0.,     0.,     0.,\n",
       "            0.,     0.,     0.,     0.,     0.,     0.,     0.,     0.,\n",
       "            0.,     0.,     0.,     0.,     0.,     0.,     0.,     0.,\n",
       "            0.,     0.,     0.,     0.,     0.,     0.,     0.,     0.,\n",
       "            0.,     0.,     0.,     0.,     0.,     0.,     0.,     0.,\n",
       "            0.,     0.,     0.],\n",
       "       [  321.,   130.,  2212.,    22.,    22.,  -211.,    22.,  -211.,\n",
       "         -211.,   211.,    22.,    22.,    22.,    22.,  -211.,   211.,\n",
       "          211.,   211.,  -211.,  -211.,  -211.,   211.,    22.,    22.,\n",
       "         -321.,   211.,    22.,    22.,    22.,   211., -2112.,    22.,\n",
       "         -211.,   211.,    22.,   211.,   321.,    22.,    22.,    22.,\n",
       "         -211.,   211., -2212.,   321.,    22.,  -211.,  -211.,    22.,\n",
       "         2212.,     0.,     0.,     0.,     0.,     0.,     0.,     0.,\n",
       "            0.,     0.,     0.,     0.,     0.,     0.,     0.,     0.,\n",
       "            0.,     0.,     0.,     0.,     0.,     0.,     0.,     0.,\n",
       "            0.,     0.,     0.,     0.,     0.,     0.,     0.,     0.,\n",
       "            0.,     0.,     0.,     0.,     0.,     0.,     0.,     0.,\n",
       "            0.,     0.,     0.,     0.,     0.,     0.,     0.,     0.,\n",
       "            0.,     0.,     0.,     0.,     0.,     0.,     0.,     0.,\n",
       "            0.,     0.,     0.,     0.,     0.,     0.,     0.,     0.,\n",
       "            0.,     0.,     0.,     0.,     0.,     0.,     0.,     0.,\n",
       "            0.,     0.,     0.,     0.,     0.,     0.,     0.,     0.,\n",
       "            0.,     0.,     0.,     0.,     0.,     0.,     0.,     0.,\n",
       "            0.,     0.,     0.],\n",
       "       [   22.,  -211.,    22.,   321.,   211.,    22.,  -211.,  -211.,\n",
       "           22.,    22.,  -211.,    22.,    22.,   211.,    22.,   211.,\n",
       "           22.,    22.,   211.,   211.,  -211.,    22.,   211.,   211.,\n",
       "           22.,    22.,   211.,    22.,    22.,    22.,   211.,    22.,\n",
       "         -211.,  -211.,   211.,  -211.,  -211.,    22.,  -211.,  -211.,\n",
       "           22.,  -211.,   211.,    22.,    22.,    22.,    22.,  -211.,\n",
       "           22.,    22.,    22.,    22.,    22.,  -211.,  -211.,   211.,\n",
       "           22.,    22.,    22.,    22.,    22.,    22.,    22.,    22.,\n",
       "           22.,   321.,   211.,     0.,     0.,     0.,     0.,     0.,\n",
       "            0.,     0.,     0.,     0.,     0.,     0.,     0.,     0.,\n",
       "            0.,     0.,     0.,     0.,     0.,     0.,     0.,     0.,\n",
       "            0.,     0.,     0.,     0.,     0.,     0.,     0.,     0.,\n",
       "            0.,     0.,     0.,     0.,     0.,     0.,     0.,     0.,\n",
       "            0.,     0.,     0.,     0.,     0.,     0.,     0.,     0.,\n",
       "            0.,     0.,     0.,     0.,     0.,     0.,     0.,     0.,\n",
       "            0.,     0.,     0.,     0.,     0.,     0.,     0.,     0.,\n",
       "            0.,     0.,     0.,     0.,     0.,     0.,     0.,     0.,\n",
       "            0.,     0.,     0.],\n",
       "       [ -211.,    22.,    22.,   211.,  -211.,    22.,    22.,  -211.,\n",
       "           22.,    22.,    22.,    22.,  -211.,    22.,  -211.,   211.,\n",
       "         -211.,    22.,   211.,    22.,    22.,  -211.,   211.,  -211.,\n",
       "           22.,   211.,  -211.,   211.,   211.,   211.,   211.,    22.,\n",
       "           22.,    22.,  -211.,  -211.,   211.,   130.,   211.,    22.,\n",
       "          211.,  -211.,    22.,   211.,  -211.,    22.,  -321.,   211.,\n",
       "            0.,     0.,     0.,     0.,     0.,     0.,     0.,     0.,\n",
       "            0.,     0.,     0.,     0.,     0.,     0.,     0.,     0.,\n",
       "            0.,     0.,     0.,     0.,     0.,     0.,     0.,     0.,\n",
       "            0.,     0.,     0.,     0.,     0.,     0.,     0.,     0.,\n",
       "            0.,     0.,     0.,     0.,     0.,     0.,     0.,     0.,\n",
       "            0.,     0.,     0.,     0.,     0.,     0.,     0.,     0.,\n",
       "            0.,     0.,     0.,     0.,     0.,     0.,     0.,     0.,\n",
       "            0.,     0.,     0.,     0.,     0.,     0.,     0.,     0.,\n",
       "            0.,     0.,     0.,     0.,     0.,     0.,     0.,     0.,\n",
       "            0.,     0.,     0.,     0.,     0.,     0.,     0.,     0.,\n",
       "            0.,     0.,     0.,     0.,     0.,     0.,     0.,     0.,\n",
       "            0.,     0.,     0.]])"
      ]
     },
     "execution_count": 131,
     "metadata": {},
     "output_type": "execute_result"
    }
   ],
   "source": [
    "X[np.where(Y==0)[0][:5],:,-1]"
   ]
  },
  {
   "cell_type": "code",
   "execution_count": 137,
   "id": "03e567e7-dcf9-4259-9ed5-0f2a77c4fc6c",
   "metadata": {},
   "outputs": [],
   "source": [
    "pid= X[:,:,-1]"
   ]
  },
  {
   "cell_type": "code",
   "execution_count": 143,
   "id": "4f32294e-5078-4c73-a822-b09132b24dba",
   "metadata": {},
   "outputs": [
    {
     "data": {
      "text/plain": [
       "{-321.0, -211.0, 0.0, 22.0, 211.0, 321.0}"
      ]
     },
     "execution_count": 143,
     "metadata": {},
     "output_type": "execute_result"
    }
   ],
   "source": [
    "pid_set = set(pid[0])\n",
    "pid_set"
   ]
  },
  {
   "cell_type": "code",
   "execution_count": 144,
   "id": "fd6342ea-6f50-401d-b87c-21f4ca8abf06",
   "metadata": {},
   "outputs": [
    {
     "data": {
      "text/plain": [
       "array([  22.,   22., -211., -321., -211.,   22.,   22.,  211.,  321.,\n",
       "       -211.,   22.,   22.,   22.,   22.,   22.,   22.,   22.,   22.,\n",
       "          0.,    0.,    0.,    0.,    0.,    0.,    0.,    0.,    0.,\n",
       "          0.,    0.,    0.,    0.,    0.,    0.,    0.,    0.,    0.,\n",
       "          0.,    0.,    0.,    0.,    0.,    0.,    0.,    0.,    0.,\n",
       "          0.,    0.,    0.,    0.,    0.,    0.,    0.,    0.,    0.,\n",
       "          0.,    0.,    0.,    0.,    0.,    0.,    0.,    0.,    0.,\n",
       "          0.,    0.,    0.,    0.,    0.,    0.,    0.,    0.,    0.,\n",
       "          0.,    0.,    0.,    0.,    0.,    0.,    0.,    0.,    0.,\n",
       "          0.,    0.,    0.,    0.,    0.,    0.,    0.,    0.,    0.,\n",
       "          0.,    0.,    0.,    0.,    0.,    0.,    0.,    0.,    0.,\n",
       "          0.,    0.,    0.,    0.,    0.,    0.,    0.,    0.,    0.,\n",
       "          0.,    0.,    0.,    0.,    0.,    0.,    0.,    0.,    0.,\n",
       "          0.,    0.,    0.,    0.,    0.,    0.,    0.,    0.,    0.,\n",
       "          0.,    0.,    0.,    0.,    0.,    0.,    0.,    0.,    0.,\n",
       "          0.,    0.,    0.,    0.])"
      ]
     },
     "execution_count": 144,
     "metadata": {},
     "output_type": "execute_result"
    }
   ],
   "source": [
    "pid[0]"
   ]
  },
  {
   "cell_type": "code",
   "execution_count": 146,
   "id": "a484d3b6-4cf9-40b5-8ccf-28220405217e",
   "metadata": {},
   "outputs": [
    {
     "data": {
      "text/plain": [
       "<matplotlib.collections.PathCollection at 0x7fe5dc10c790>"
      ]
     },
     "execution_count": 146,
     "metadata": {},
     "output_type": "execute_result"
    },
    {
     "data": {
      "image/png": "[encoded data removed]",
      "text/plain": [
       "<Figure size 432x288 with 1 Axes>"
      ]
     },
     "metadata": {
      "needs_background": "light"
     },
     "output_type": "display_data"
    }
   ],
   "source": [
    "plt.scatter(X[0,:,0],X[0,:,1])"
   ]
  },
  {
   "cell_type": "code",
   "execution_count": 154,
   "id": "df747983-3381-4c94-ae4f-ac2e9039aa0f",
   "metadata": {},
   "outputs": [
    {
     "data": {
      "text/plain": [
       "<matplotlib.collections.PathCollection at 0x7fe5d7e8a400>"
      ]
     },
     "execution_count": 154,
     "metadata": {},
     "output_type": "execute_result"
    },
    {
     "data": {
      "image/png": "[encoded data removed]",
      "text/plain": [
       "<Figure size 432x288 with 1 Axes>"
      ]
     },
     "metadata": {
      "needs_background": "light"
     },
     "output_type": "display_data"
    }
   ],
   "source": [
    "plt.scatter(X[2,:,0],X[2,:,1])"
   ]
  },
  {
   "cell_type": "markdown",
   "id": "41c4ac23-2bb6-4f27-b64b-2ca36ba1b71d",
   "metadata": {
    "jp-MarkdownHeadingCollapsed": true,
    "tags": []
   },
   "source": [
    "# Task V: Open Task Part\n",
    "\n",
    "Please comment on quantum computing or quantum machine learning. You can also comment on one quantum algorithm or one quantum software you are familiar with. You can also suggest methods you think are good and you would like to work. Please use your own understanding. Comments copied from the internet will not be considered."
   ]
  },
  {
   "cell_type": "markdown",
   "id": "929ff587-9e23-4bd9-b801-08407db478d9",
   "metadata": {},
   "source": [
    "My interest in qunatum machine leaning stems from an intuiotion that when dealing with data sampled from a distribution governed by qunatum physics, a quantum algorith may be more addapt than a classical one. That is, a QNN might be able to learn qunatum correlations (i.e. entanglement) better than a classical ANN. As a person who comes from a condesned matter background, that approach is even more sensible to me, since the lvel of control of experimental systems is quite high compared to that of high-energy partcile accelerators. It implies that a QML algorithm can work directly with the system's quantum state, and so if QML offers a real quantum advantage we wll eventually fully exploit it. In a high-energy context, if I'm not mistaken, sensores provide access only to classical information. However, relying on classical data limits the insights we have into the underlying physics. Thus the task is to reconstruct the quantum distribution from classical information. Given the great success of clasical methods, it is interesting to understand whether quantum approach will provide and advantage (I admint to not being familiar with the literature). In partiular, it might be possible that the classical methods guided us to the tasks they are most suitable for. Developing mature QML techniques can thus expend our vocabulary, and direct us towards asking different questions and constructing instruments that are more addapt to deal with such questions. \n",
    "\n",
    "For example, for an Auto-Encoder to be able to reconstruct a state, it must encode some importnat information about the physical system from which the state was sampled. In HE context, that would be the Standard Model's Lagrangian, or a Lagrangian of some extation to the SM (since we have observed anoumalous measurements in disagrrement with the SM). For comparrison, when we deal with a task of distinguishing the picture of a cat from that of a dog, what a classical AE learns might not be interesting for a zoologist. Zoologists are often interested in features such as genetic make-up, behavior or anatmoy, and these are probably irrelevent degrees of freedom for the previously mentioned tasks. While in a physics context, on the other hand, data is sampled from a distibrution obtained by a unitary evolution dictated by an Hermitian operator, and the details of those are impportant amd so it is reasonable to expect a sufficiently experssive model to takt them into account. \n",
    "\n",
    "To conclude, although I don't know much about QML, my hunch is that it can yield a meaning scientific contribution to high-energy physics, which is why I want to participate in this project."
   ]
  }
 ],
 "metadata": {
  "kernelspec": {
   "display_name": "Python 3 (ipykernel)",
   "language": "python",
   "name": "python3"
  },
  "language_info": {
   "codemirror_mode": {
    "name": "ipython",
    "version": 3
   },
   "file_extension": ".py",
   "mimetype": "text/x-python",
   "name": "python",
   "nbconvert_exporter": "python",
   "pygments_lexer": "ipython3",
   "version": "3.8.10"
  }
 },
 "nbformat": 4,
 "nbformat_minor": 5
}
